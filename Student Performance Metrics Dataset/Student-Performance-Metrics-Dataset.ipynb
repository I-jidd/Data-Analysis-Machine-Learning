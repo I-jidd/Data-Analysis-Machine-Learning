{
 "cells": [
  {
   "cell_type": "markdown",
   "id": "edb269c7",
   "metadata": {},
   "source": [
    "# Student Performance Prediction "
   ]
  },
  {
   "cell_type": "markdown",
   "id": "a4a3b531",
   "metadata": {},
   "source": [
    "###"
   ]
  },
  {
   "cell_type": "markdown",
   "id": "239c5806",
   "metadata": {},
   "source": [
    "## 1. Introduction"
   ]
  },
  {
   "cell_type": "markdown",
   "id": "3e7c30b2",
   "metadata": {},
   "source": [
    "### 1.1 Context:\n"
   ]
  },
  {
   "cell_type": "markdown",
   "id": "d93ad997",
   "metadata": {},
   "source": [
    "     This notebook explores student performance data to identfiy the factors that influence academic outcomes. Through exploratory data analysis (EDA), I examine demographic, academic, and lifestlye features such as gender, income, attendance, gaming hours, and prior grades. After uncovering trends and relationships, I build machine learning models to predict the Overall performance score of students. This process provides insights for educators and serves as a foundation for data-driven interventions to support student sucess."
   ]
  },
  {
   "cell_type": "markdown",
   "id": "6b946cd9",
   "metadata": {},
   "source": [
    "### 1.2 Problem Statement:\n"
   ]
  },
  {
   "cell_type": "markdown",
   "id": "762e86d9",
   "metadata": {},
   "source": [
    "    1. What factors significantly influence students' overall academic performance\n",
    "    2. Is it possible to build machine learning model to predict a student's Overall performance score based on demographic, academic, and lifestyle features?"
   ]
  },
  {
   "cell_type": "markdown",
   "id": "ca758ba8",
   "metadata": {},
   "source": [
    "### 1.3 Why this is important\n"
   ]
  },
  {
   "cell_type": "markdown",
   "id": "aec4774b",
   "metadata": {},
   "source": [
    "Understanding the factors that affect student performance is essentail for improving educational outcomes. By analyzing academic, demographic, and lifestyle data, schools and educators can:\n",
    "- Identify students who may be at risk underperforming.\n",
    "- Develop targeted interventions to improve learning outcomes.\n",
    "- Optimize teaching strategies and resource allocation.\n",
    "- Use predictive models to support data-driven decision-making in education."
   ]
  },
  {
   "cell_type": "markdown",
   "id": "b5cdd407",
   "metadata": {},
   "source": [
    "## 2. Objectives"
   ]
  },
  {
   "cell_type": "markdown",
   "id": "54c9b62d",
   "metadata": {},
   "source": [
    "### 2.1 Clear goals of the analysis/model"
   ]
  },
  {
   "cell_type": "markdown",
   "id": "7b6189a4",
   "metadata": {},
   "source": [
    "## 3. Data Description"
   ]
  },
  {
   "cell_type": "markdown",
   "id": "9071f529",
   "metadata": {},
   "source": [
    "### Import necessary libraries"
   ]
  },
  {
   "cell_type": "code",
   "execution_count": 1,
   "id": "f2764ce9",
   "metadata": {},
   "outputs": [],
   "source": [
    "import pandas as pd\n",
    "import numpy as np\n",
    "import matplotlib.pyplot as plt\n",
    "import seaborn as sns"
   ]
  },
  {
   "cell_type": "markdown",
   "id": "dc96dca5",
   "metadata": {},
   "source": [
    "### Load and Explore the Dataset"
   ]
  },
  {
   "cell_type": "code",
   "execution_count": 2,
   "id": "3a6ee43f",
   "metadata": {},
   "outputs": [],
   "source": [
    "df = pd.read_csv('ResearchInformation3.csv')"
   ]
  },
  {
   "cell_type": "code",
   "execution_count": 10,
   "id": "9c856d2f",
   "metadata": {},
   "outputs": [
    {
     "data": {
      "text/html": [
       "<div>\n",
       "<style scoped>\n",
       "    .dataframe tbody tr th:only-of-type {\n",
       "        vertical-align: middle;\n",
       "    }\n",
       "\n",
       "    .dataframe tbody tr th {\n",
       "        vertical-align: top;\n",
       "    }\n",
       "\n",
       "    .dataframe thead th {\n",
       "        text-align: right;\n",
       "    }\n",
       "</style>\n",
       "<table border=\"1\" class=\"dataframe\">\n",
       "  <thead>\n",
       "    <tr style=\"text-align: right;\">\n",
       "      <th></th>\n",
       "      <th>Department</th>\n",
       "      <th>Gender</th>\n",
       "      <th>HSC</th>\n",
       "      <th>SSC</th>\n",
       "      <th>Income</th>\n",
       "      <th>Hometown</th>\n",
       "      <th>Computer</th>\n",
       "      <th>Preparation</th>\n",
       "      <th>Gaming</th>\n",
       "      <th>Attendance</th>\n",
       "      <th>Job</th>\n",
       "      <th>English</th>\n",
       "      <th>Extra</th>\n",
       "      <th>Semester</th>\n",
       "      <th>Last</th>\n",
       "      <th>Overall</th>\n",
       "    </tr>\n",
       "  </thead>\n",
       "  <tbody>\n",
       "    <tr>\n",
       "      <th>0</th>\n",
       "      <td>Business Administration</td>\n",
       "      <td>Male</td>\n",
       "      <td>4.17</td>\n",
       "      <td>4.84</td>\n",
       "      <td>Low (Below 15,000)</td>\n",
       "      <td>Village</td>\n",
       "      <td>3</td>\n",
       "      <td>More than 3 Hours</td>\n",
       "      <td>0-1 Hour</td>\n",
       "      <td>80%-100%</td>\n",
       "      <td>No</td>\n",
       "      <td>3</td>\n",
       "      <td>Yes</td>\n",
       "      <td>6th</td>\n",
       "      <td>3.220</td>\n",
       "      <td>3.350</td>\n",
       "    </tr>\n",
       "    <tr>\n",
       "      <th>1</th>\n",
       "      <td>Business Administration</td>\n",
       "      <td>Female</td>\n",
       "      <td>4.92</td>\n",
       "      <td>5.00</td>\n",
       "      <td>Upper middle (30,000-50,000)</td>\n",
       "      <td>City</td>\n",
       "      <td>3</td>\n",
       "      <td>0-1 Hour</td>\n",
       "      <td>0-1 Hour</td>\n",
       "      <td>80%-100%</td>\n",
       "      <td>No</td>\n",
       "      <td>3</td>\n",
       "      <td>Yes</td>\n",
       "      <td>7th</td>\n",
       "      <td>3.467</td>\n",
       "      <td>3.467</td>\n",
       "    </tr>\n",
       "    <tr>\n",
       "      <th>2</th>\n",
       "      <td>Business Administration</td>\n",
       "      <td>Male</td>\n",
       "      <td>5.00</td>\n",
       "      <td>4.83</td>\n",
       "      <td>Lower middle (15,000-30,000)</td>\n",
       "      <td>Village</td>\n",
       "      <td>3</td>\n",
       "      <td>0-1 Hour</td>\n",
       "      <td>More than 3 Hours</td>\n",
       "      <td>80%-100%</td>\n",
       "      <td>No</td>\n",
       "      <td>4</td>\n",
       "      <td>Yes</td>\n",
       "      <td>3rd</td>\n",
       "      <td>4.000</td>\n",
       "      <td>3.720</td>\n",
       "    </tr>\n",
       "    <tr>\n",
       "      <th>3</th>\n",
       "      <td>Business Administration</td>\n",
       "      <td>Male</td>\n",
       "      <td>4.00</td>\n",
       "      <td>4.50</td>\n",
       "      <td>High (Above 50,000)</td>\n",
       "      <td>City</td>\n",
       "      <td>5</td>\n",
       "      <td>More than 3 Hours</td>\n",
       "      <td>More than 3 Hours</td>\n",
       "      <td>80%-100%</td>\n",
       "      <td>No</td>\n",
       "      <td>5</td>\n",
       "      <td>Yes</td>\n",
       "      <td>4th</td>\n",
       "      <td>3.800</td>\n",
       "      <td>3.750</td>\n",
       "    </tr>\n",
       "    <tr>\n",
       "      <th>4</th>\n",
       "      <td>Business Administration</td>\n",
       "      <td>Female</td>\n",
       "      <td>2.19</td>\n",
       "      <td>3.17</td>\n",
       "      <td>Lower middle (15,000-30,000)</td>\n",
       "      <td>Village</td>\n",
       "      <td>3</td>\n",
       "      <td>0-1 Hour</td>\n",
       "      <td>2-3 Hours</td>\n",
       "      <td>80%-100%</td>\n",
       "      <td>No</td>\n",
       "      <td>3</td>\n",
       "      <td>Yes</td>\n",
       "      <td>4th</td>\n",
       "      <td>3.940</td>\n",
       "      <td>3.940</td>\n",
       "    </tr>\n",
       "    <tr>\n",
       "      <th>5</th>\n",
       "      <td>Computer Science and Engineering</td>\n",
       "      <td>Male</td>\n",
       "      <td>4.75</td>\n",
       "      <td>4.05</td>\n",
       "      <td>Lower middle (15,000-30,000)</td>\n",
       "      <td>Village</td>\n",
       "      <td>3</td>\n",
       "      <td>0-1 Hour</td>\n",
       "      <td>More than 3 Hours</td>\n",
       "      <td>Below 40%</td>\n",
       "      <td>No</td>\n",
       "      <td>4</td>\n",
       "      <td>No</td>\n",
       "      <td>2nd</td>\n",
       "      <td>1.000</td>\n",
       "      <td>1.000</td>\n",
       "    </tr>\n",
       "    <tr>\n",
       "      <th>6</th>\n",
       "      <td>Computer Science and Engineering</td>\n",
       "      <td>Male</td>\n",
       "      <td>4.42</td>\n",
       "      <td>5.00</td>\n",
       "      <td>High (Above 50,000)</td>\n",
       "      <td>Village</td>\n",
       "      <td>4</td>\n",
       "      <td>0-1 Hour</td>\n",
       "      <td>More than 3 Hours</td>\n",
       "      <td>60%-79%</td>\n",
       "      <td>No</td>\n",
       "      <td>2</td>\n",
       "      <td>No</td>\n",
       "      <td>2nd</td>\n",
       "      <td>1.060</td>\n",
       "      <td>1.060</td>\n",
       "    </tr>\n",
       "    <tr>\n",
       "      <th>7</th>\n",
       "      <td>Computer Science and Engineering</td>\n",
       "      <td>Male</td>\n",
       "      <td>4.50</td>\n",
       "      <td>4.81</td>\n",
       "      <td>Upper middle (30,000-50,000)</td>\n",
       "      <td>City</td>\n",
       "      <td>3</td>\n",
       "      <td>2-3 Hours</td>\n",
       "      <td>More than 3 Hours</td>\n",
       "      <td>80%-100%</td>\n",
       "      <td>No</td>\n",
       "      <td>4</td>\n",
       "      <td>Yes</td>\n",
       "      <td>11th</td>\n",
       "      <td>2.950</td>\n",
       "      <td>1.250</td>\n",
       "    </tr>\n",
       "    <tr>\n",
       "      <th>8</th>\n",
       "      <td>Computer Science and Engineering</td>\n",
       "      <td>Male</td>\n",
       "      <td>3.32</td>\n",
       "      <td>4.50</td>\n",
       "      <td>Low (Below 15,000)</td>\n",
       "      <td>City</td>\n",
       "      <td>4</td>\n",
       "      <td>0-1 Hour</td>\n",
       "      <td>More than 3 Hours</td>\n",
       "      <td>Below 40%</td>\n",
       "      <td>No</td>\n",
       "      <td>3</td>\n",
       "      <td>Yes</td>\n",
       "      <td>5th</td>\n",
       "      <td>1.420</td>\n",
       "      <td>1.440</td>\n",
       "    </tr>\n",
       "    <tr>\n",
       "      <th>9</th>\n",
       "      <td>Computer Science and Engineering</td>\n",
       "      <td>Female</td>\n",
       "      <td>3.33</td>\n",
       "      <td>4.95</td>\n",
       "      <td>Lower middle (15,000-30,000)</td>\n",
       "      <td>City</td>\n",
       "      <td>3</td>\n",
       "      <td>0-1 Hour</td>\n",
       "      <td>More than 3 Hours</td>\n",
       "      <td>Below 40%</td>\n",
       "      <td>No</td>\n",
       "      <td>4</td>\n",
       "      <td>No</td>\n",
       "      <td>2nd</td>\n",
       "      <td>1.500</td>\n",
       "      <td>1.500</td>\n",
       "    </tr>\n",
       "  </tbody>\n",
       "</table>\n",
       "</div>"
      ],
      "text/plain": [
       "                         Department  Gender   HSC   SSC  \\\n",
       "0           Business Administration    Male  4.17  4.84   \n",
       "1           Business Administration  Female  4.92  5.00   \n",
       "2           Business Administration    Male  5.00  4.83   \n",
       "3           Business Administration    Male  4.00  4.50   \n",
       "4           Business Administration  Female  2.19  3.17   \n",
       "5  Computer Science and Engineering    Male  4.75  4.05   \n",
       "6  Computer Science and Engineering    Male  4.42  5.00   \n",
       "7  Computer Science and Engineering    Male  4.50  4.81   \n",
       "8  Computer Science and Engineering    Male  3.32  4.50   \n",
       "9  Computer Science and Engineering  Female  3.33  4.95   \n",
       "\n",
       "                          Income Hometown  Computer        Preparation  \\\n",
       "0             Low (Below 15,000)  Village         3  More than 3 Hours   \n",
       "1   Upper middle (30,000-50,000)     City         3           0-1 Hour   \n",
       "2   Lower middle (15,000-30,000)  Village         3           0-1 Hour   \n",
       "3            High (Above 50,000)     City         5  More than 3 Hours   \n",
       "4   Lower middle (15,000-30,000)  Village         3           0-1 Hour   \n",
       "5   Lower middle (15,000-30,000)  Village         3           0-1 Hour   \n",
       "6            High (Above 50,000)  Village         4           0-1 Hour   \n",
       "7   Upper middle (30,000-50,000)     City         3          2-3 Hours   \n",
       "8            Low (Below 15,000)      City         4           0-1 Hour   \n",
       "9  Lower middle (15,000-30,000)      City         3           0-1 Hour   \n",
       "\n",
       "              Gaming Attendance Job  English Extra Semester   Last  Overall  \n",
       "0           0-1 Hour   80%-100%  No        3   Yes      6th  3.220    3.350  \n",
       "1           0-1 Hour   80%-100%  No        3   Yes      7th  3.467    3.467  \n",
       "2  More than 3 Hours   80%-100%  No        4   Yes      3rd  4.000    3.720  \n",
       "3  More than 3 Hours   80%-100%  No        5   Yes      4th  3.800    3.750  \n",
       "4          2-3 Hours   80%-100%  No        3   Yes      4th  3.940    3.940  \n",
       "5  More than 3 Hours  Below 40%  No        4    No      2nd  1.000    1.000  \n",
       "6  More than 3 Hours    60%-79%  No        2    No      2nd  1.060    1.060  \n",
       "7  More than 3 Hours   80%-100%  No        4   Yes     11th  2.950    1.250  \n",
       "8  More than 3 Hours  Below 40%  No        3   Yes      5th  1.420    1.440  \n",
       "9  More than 3 Hours  Below 40%  No        4    No      2nd  1.500    1.500  "
      ]
     },
     "execution_count": 10,
     "metadata": {},
     "output_type": "execute_result"
    }
   ],
   "source": [
    "df.head(10)"
   ]
  },
  {
   "cell_type": "code",
   "execution_count": 4,
   "id": "415b2656",
   "metadata": {},
   "outputs": [
    {
     "name": "stdout",
     "output_type": "stream",
     "text": [
      "<class 'pandas.core.frame.DataFrame'>\n",
      "RangeIndex: 493 entries, 0 to 492\n",
      "Data columns (total 16 columns):\n",
      " #   Column       Non-Null Count  Dtype  \n",
      "---  ------       --------------  -----  \n",
      " 0   Department   493 non-null    object \n",
      " 1   Gender       493 non-null    object \n",
      " 2   HSC          493 non-null    float64\n",
      " 3   SSC          493 non-null    float64\n",
      " 4   Income       493 non-null    object \n",
      " 5   Hometown     493 non-null    object \n",
      " 6   Computer     493 non-null    int64  \n",
      " 7   Preparation  493 non-null    object \n",
      " 8   Gaming       493 non-null    object \n",
      " 9   Attendance   493 non-null    object \n",
      " 10  Job          493 non-null    object \n",
      " 11  English      493 non-null    int64  \n",
      " 12  Extra        493 non-null    object \n",
      " 13  Semester     493 non-null    object \n",
      " 14  Last         493 non-null    float64\n",
      " 15  Overall      493 non-null    float64\n",
      "dtypes: float64(4), int64(2), object(10)\n",
      "memory usage: 61.8+ KB\n"
     ]
    }
   ],
   "source": [
    "df.info()"
   ]
  },
  {
   "cell_type": "code",
   "execution_count": 5,
   "id": "12b62fea",
   "metadata": {},
   "outputs": [
    {
     "data": {
      "text/html": [
       "<div>\n",
       "<style scoped>\n",
       "    .dataframe tbody tr th:only-of-type {\n",
       "        vertical-align: middle;\n",
       "    }\n",
       "\n",
       "    .dataframe tbody tr th {\n",
       "        vertical-align: top;\n",
       "    }\n",
       "\n",
       "    .dataframe thead th {\n",
       "        text-align: right;\n",
       "    }\n",
       "</style>\n",
       "<table border=\"1\" class=\"dataframe\">\n",
       "  <thead>\n",
       "    <tr style=\"text-align: right;\">\n",
       "      <th></th>\n",
       "      <th>HSC</th>\n",
       "      <th>SSC</th>\n",
       "      <th>Computer</th>\n",
       "      <th>English</th>\n",
       "      <th>Last</th>\n",
       "      <th>Overall</th>\n",
       "    </tr>\n",
       "  </thead>\n",
       "  <tbody>\n",
       "    <tr>\n",
       "      <th>count</th>\n",
       "      <td>493.000000</td>\n",
       "      <td>493.000000</td>\n",
       "      <td>493.000000</td>\n",
       "      <td>493.000000</td>\n",
       "      <td>493.000000</td>\n",
       "      <td>493.000000</td>\n",
       "    </tr>\n",
       "    <tr>\n",
       "      <th>mean</th>\n",
       "      <td>4.156775</td>\n",
       "      <td>4.767647</td>\n",
       "      <td>3.338742</td>\n",
       "      <td>3.569980</td>\n",
       "      <td>3.163888</td>\n",
       "      <td>3.188383</td>\n",
       "    </tr>\n",
       "    <tr>\n",
       "      <th>std</th>\n",
       "      <td>0.546504</td>\n",
       "      <td>0.349538</td>\n",
       "      <td>1.252988</td>\n",
       "      <td>0.870515</td>\n",
       "      <td>0.641475</td>\n",
       "      <td>0.591801</td>\n",
       "    </tr>\n",
       "    <tr>\n",
       "      <th>min</th>\n",
       "      <td>2.170000</td>\n",
       "      <td>3.000000</td>\n",
       "      <td>1.000000</td>\n",
       "      <td>1.000000</td>\n",
       "      <td>1.000000</td>\n",
       "      <td>1.000000</td>\n",
       "    </tr>\n",
       "    <tr>\n",
       "      <th>25%</th>\n",
       "      <td>3.830000</td>\n",
       "      <td>4.680000</td>\n",
       "      <td>3.000000</td>\n",
       "      <td>3.000000</td>\n",
       "      <td>2.810000</td>\n",
       "      <td>2.880000</td>\n",
       "    </tr>\n",
       "    <tr>\n",
       "      <th>50%</th>\n",
       "      <td>4.170000</td>\n",
       "      <td>4.940000</td>\n",
       "      <td>3.000000</td>\n",
       "      <td>4.000000</td>\n",
       "      <td>3.250000</td>\n",
       "      <td>3.270000</td>\n",
       "    </tr>\n",
       "    <tr>\n",
       "      <th>75%</th>\n",
       "      <td>4.500000</td>\n",
       "      <td>5.000000</td>\n",
       "      <td>4.000000</td>\n",
       "      <td>4.000000</td>\n",
       "      <td>3.670000</td>\n",
       "      <td>3.680000</td>\n",
       "    </tr>\n",
       "    <tr>\n",
       "      <th>max</th>\n",
       "      <td>5.000000</td>\n",
       "      <td>5.000000</td>\n",
       "      <td>5.000000</td>\n",
       "      <td>5.000000</td>\n",
       "      <td>4.000000</td>\n",
       "      <td>4.000000</td>\n",
       "    </tr>\n",
       "  </tbody>\n",
       "</table>\n",
       "</div>"
      ],
      "text/plain": [
       "              HSC         SSC    Computer     English        Last     Overall\n",
       "count  493.000000  493.000000  493.000000  493.000000  493.000000  493.000000\n",
       "mean     4.156775    4.767647    3.338742    3.569980    3.163888    3.188383\n",
       "std      0.546504    0.349538    1.252988    0.870515    0.641475    0.591801\n",
       "min      2.170000    3.000000    1.000000    1.000000    1.000000    1.000000\n",
       "25%      3.830000    4.680000    3.000000    3.000000    2.810000    2.880000\n",
       "50%      4.170000    4.940000    3.000000    4.000000    3.250000    3.270000\n",
       "75%      4.500000    5.000000    4.000000    4.000000    3.670000    3.680000\n",
       "max      5.000000    5.000000    5.000000    5.000000    4.000000    4.000000"
      ]
     },
     "execution_count": 5,
     "metadata": {},
     "output_type": "execute_result"
    }
   ],
   "source": [
    "df.describe()"
   ]
  },
  {
   "cell_type": "code",
   "execution_count": 9,
   "id": "48f04795",
   "metadata": {},
   "outputs": [
    {
     "data": {
      "text/plain": [
       "Department\n",
       "Computer Science and Engineering               443\n",
       "English                                         14\n",
       "Journalism, Communication and Media Studies     13\n",
       "Political Science                                6\n",
       "Business Administration                          5\n",
       "Economics                                        4\n",
       "Sociology                                        3\n",
       "Law and Human Rights                             2\n",
       "Public Health                                    2\n",
       "Electrical and Electronic Engineering            1\n",
       "Name: count, dtype: int64"
      ]
     },
     "execution_count": 9,
     "metadata": {},
     "output_type": "execute_result"
    }
   ],
   "source": [
    "df['Department'].value_counts()"
   ]
  },
  {
   "cell_type": "code",
   "execution_count": null,
   "id": "70fd9589",
   "metadata": {},
   "outputs": [],
   "source": []
  },
  {
   "cell_type": "markdown",
   "id": "aa43bdd9",
   "metadata": {},
   "source": []
  },
  {
   "cell_type": "markdown",
   "id": "3a3eebb4",
   "metadata": {},
   "source": [
    "## 4. Exploratory Data Analysis (EDA)"
   ]
  },
  {
   "cell_type": "markdown",
   "id": "50f65ca6",
   "metadata": {},
   "source": [
    "### 4.1 Data Cleaning"
   ]
  },
  {
   "cell_type": "markdown",
   "id": "474b7f6d",
   "metadata": {},
   "source": [
    "### 4.2 Univariate Analysis"
   ]
  },
  {
   "cell_type": "markdown",
   "id": "f156a04a",
   "metadata": {},
   "source": [
    "### 4.3 Bivariate/Multivariate Analysis"
   ]
  },
  {
   "cell_type": "markdown",
   "id": "80205d21",
   "metadata": {},
   "source": [
    "## 5. Feature Engineering"
   ]
  },
  {
   "cell_type": "markdown",
   "id": "34eb38cd",
   "metadata": {},
   "source": [
    "## 6. Model Building"
   ]
  },
  {
   "cell_type": "markdown",
   "id": "f475349f",
   "metadata": {},
   "source": [
    "### 6.1 Train-Test Split"
   ]
  },
  {
   "cell_type": "markdown",
   "id": "e4f47dc1",
   "metadata": {},
   "source": [
    "### 6.2 Baseline Model"
   ]
  },
  {
   "cell_type": "markdown",
   "id": "64622a26",
   "metadata": {},
   "source": [
    "### 6.3 Model Training"
   ]
  },
  {
   "cell_type": "markdown",
   "id": "b662f1e6",
   "metadata": {},
   "source": [
    "### 6.4 Model Evaluation"
   ]
  },
  {
   "cell_type": "markdown",
   "id": "d8136dfb",
   "metadata": {},
   "source": [
    "## 7. Results"
   ]
  },
  {
   "cell_type": "markdown",
   "id": "bd5c1468",
   "metadata": {},
   "source": [
    "## 8. Conclusion & Recommendations"
   ]
  },
  {
   "cell_type": "markdown",
   "id": "babc7883",
   "metadata": {},
   "source": [
    "## 9. References"
   ]
  },
  {
   "cell_type": "markdown",
   "id": "44a5e77c",
   "metadata": {},
   "source": []
  },
  {
   "cell_type": "markdown",
   "id": "869a94f6",
   "metadata": {},
   "source": []
  }
 ],
 "metadata": {
  "kernelspec": {
   "display_name": "data_analysis",
   "language": "python",
   "name": "python3"
  },
  "language_info": {
   "codemirror_mode": {
    "name": "ipython",
    "version": 3
   },
   "file_extension": ".py",
   "mimetype": "text/x-python",
   "name": "python",
   "nbconvert_exporter": "python",
   "pygments_lexer": "ipython3",
   "version": "3.12.9"
  }
 },
 "nbformat": 4,
 "nbformat_minor": 5
}
